{
 "cells": [
  {
   "cell_type": "code",
   "execution_count": 1,
   "metadata": {
    "collapsed": true
   },
   "outputs": [],
   "source": [
    "#%load_ext autoreload\n",
    "#%autoreload 2\n",
    "\n",
    "import numpy as np\n",
    "from Functions import get_images"
   ]
  },
  {
   "cell_type": "code",
   "execution_count": 31,
   "metadata": {},
   "outputs": [
    {
     "name": "stdout",
     "output_type": "stream",
     "text": [
      "(5890, 64, 64, 3)\n",
      "(5055, 64, 64, 3)\n",
      "(1335, 64, 64, 3)\n",
      "(5419, 64, 64, 3)\n",
      "(5419,)\n",
      "(5419, 4)\n",
      "(471, 64, 64, 3)\n"
     ]
    }
   ],
   "source": [
    "categ = [\"ape\", \"benchvise\", \"cam\", \"cat\", \"duck\"]\n",
    "\n",
    "file = open('./dataset/real/training_split.txt', \"r\")\n",
    "split_training = np.int16(file.readline().split(\", \"))\n",
    "\n",
    "S_db_img, S_db_class, S_db_quat = get_images(\"coarse\", categ, \"poses.txt\")\n",
    "real_img, real_class, real_quat = get_images(\"real\", categ, \"poses.txt\")\n",
    "fine_img, fine_class, fine_quat = get_images(\"fine\", categ, \"poses.txt\")\n",
    "\n",
    "\n",
    "print(real_img.shape)\n",
    "print(fine_img.shape)\n",
    "print(S_db_img.shape)\n",
    "\n",
    "print(S_train_img.shape)\n",
    "print(S_train_class.shape)\n",
    "print(S_train_quat.shape)\n",
    "print(S_test_img.shape)\n"
   ]
  },
  {
   "cell_type": "code",
   "execution_count": 47,
   "metadata": {},
   "outputs": [
    {
     "name": "stdout",
     "output_type": "stream",
     "text": [
      "(2355, 64, 64, 3)\n",
      "[471, 471, 471, 471, 471]\n"
     ]
    }
   ],
   "source": [
    "S_train_img = []\n",
    "S_train_class = []\n",
    "S_train_quat = []\n",
    "\n",
    "S_test_img = []\n",
    "S_test_class = []\n",
    "S_test_quat = []\n",
    "\n",
    "i_prec = 0\n",
    "for i in range(1178, 5980, 1178):\n",
    "    temp_img = real_img[i_prec:i,:,:]\n",
    "    temp_class = real_class[i_prec:i]\n",
    "    temp_quat = real_quat[i_prec:i,:]\n",
    "    \n",
    "    S_train_img.extend(np.delete(real_img[i_prec:i,:,:], split_training, axis = 0))\n",
    "    S_train_class.extend(np.delete(real_class[i_prec:i], split_training, axis = 0))\n",
    "    S_train_quat.extend(np.delete(real_quat[i_prec:i,:], split_training, axis = 0))\n",
    "    \n",
    "    S_test_img.extend(temp_img[split_training])\n",
    "    S_test_class.extend(temp_class[split_training])\n",
    "    S_test_quat.extend(temp_quat[split_training])\n",
    "\n",
    "    i_prec = i\n",
    "\n",
    "S_test_img = np.array(S_test_img)\n",
    "S_test_class = np.array(S_test_class)\n",
    "S_test_quat = np.array(S_test_quat)\n",
    "\n",
    "print(S_test_img.shape)\n",
    "\n",
    "pos = [0,0,0,0,0]\n",
    "for i in range(0, len(S_test_class)):\n",
    "    pos[S_test_class[i]] += 1\n",
    "print(pos)"
   ]
  }
 ],
 "metadata": {
  "kernelspec": {
   "display_name": "Python 3",
   "language": "python",
   "name": "python3"
  },
  "language_info": {
   "codemirror_mode": {
    "name": "ipython",
    "version": 3
   },
   "file_extension": ".py",
   "mimetype": "text/x-python",
   "name": "python",
   "nbconvert_exporter": "python",
   "pygments_lexer": "ipython3",
   "version": "3.6.3"
  }
 },
 "nbformat": 4,
 "nbformat_minor": 2
}
